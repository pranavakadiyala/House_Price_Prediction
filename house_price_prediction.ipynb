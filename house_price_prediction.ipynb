{
 "cells": [
  {
   "cell_type": "markdown",
   "id": "65e616b3-80e7-45b8-9f48-ff7b1ec5c168",
   "metadata": {},
   "source": [
    "## Programming assignment\n",
    "\n",
    "Andrew id: pskadiya"
   ]
  },
  {
   "cell_type": "markdown",
   "id": "496129b5-aff2-4994-b1a7-5f5e9429beeb",
   "metadata": {},
   "source": [
    "### Import packages"
   ]
  },
  {
   "cell_type": "code",
   "execution_count": 28,
   "id": "82fe6cff-a2d4-4dd9-873a-94e9ea1c0a55",
   "metadata": {},
   "outputs": [],
   "source": [
    "import mlflow\n",
    "from mlflow.models import infer_signature\n",
    "\n",
    "import pandas as pd\n",
    "from sklearn import datasets\n",
    "from sklearn.model_selection import train_test_split\n",
    "from sklearn.ensemble import RandomForestRegressor\n",
    "from sklearn.metrics import accuracy_score, precision_score, recall_score, f1_score\n",
    "from sklearn.metrics import mean_absolute_error\n",
    "\n",
    "from xgboost import XGBRegressor\n",
    "\n",
    "import seaborn as sns\n",
    "from matplotlib import pyplot as plt\n",
    "\n",
    "from hyperopt import STATUS_OK, Trials, fmin, hp, tpe\n",
    "from sklearn.linear_model import Lasso\n",
    "\n",
    "\n",
    "import numpy as np\n",
    "\n",
    "\n",
    "%matplotlib inline"
   ]
  },
  {
   "cell_type": "markdown",
   "id": "7db69032-5f1f-4284-b9f1-ec1ba3c5db65",
   "metadata": {},
   "source": [
    "### Data Setup and Processing"
   ]
  },
  {
   "cell_type": "code",
   "execution_count": 2,
   "id": "1246eb13-683e-4126-b425-04c7603ca625",
   "metadata": {},
   "outputs": [
    {
     "data": {
      "text/html": [
       "<div>\n",
       "<style scoped>\n",
       "    .dataframe tbody tr th:only-of-type {\n",
       "        vertical-align: middle;\n",
       "    }\n",
       "\n",
       "    .dataframe tbody tr th {\n",
       "        vertical-align: top;\n",
       "    }\n",
       "\n",
       "    .dataframe thead th {\n",
       "        text-align: right;\n",
       "    }\n",
       "</style>\n",
       "<table border=\"1\" class=\"dataframe\">\n",
       "  <thead>\n",
       "    <tr style=\"text-align: right;\">\n",
       "      <th></th>\n",
       "      <th>price</th>\n",
       "      <th>area</th>\n",
       "      <th>bedrooms</th>\n",
       "      <th>bathrooms</th>\n",
       "      <th>stories</th>\n",
       "      <th>mainroad</th>\n",
       "      <th>guestroom</th>\n",
       "      <th>basement</th>\n",
       "      <th>hotwaterheating</th>\n",
       "      <th>airconditioning</th>\n",
       "      <th>parking</th>\n",
       "      <th>prefarea</th>\n",
       "      <th>furnishingstatus</th>\n",
       "    </tr>\n",
       "  </thead>\n",
       "  <tbody>\n",
       "    <tr>\n",
       "      <th>0</th>\n",
       "      <td>13300000</td>\n",
       "      <td>7420</td>\n",
       "      <td>4</td>\n",
       "      <td>2</td>\n",
       "      <td>3</td>\n",
       "      <td>yes</td>\n",
       "      <td>no</td>\n",
       "      <td>no</td>\n",
       "      <td>no</td>\n",
       "      <td>yes</td>\n",
       "      <td>2</td>\n",
       "      <td>yes</td>\n",
       "      <td>furnished</td>\n",
       "    </tr>\n",
       "    <tr>\n",
       "      <th>1</th>\n",
       "      <td>12250000</td>\n",
       "      <td>8960</td>\n",
       "      <td>4</td>\n",
       "      <td>4</td>\n",
       "      <td>4</td>\n",
       "      <td>yes</td>\n",
       "      <td>no</td>\n",
       "      <td>no</td>\n",
       "      <td>no</td>\n",
       "      <td>yes</td>\n",
       "      <td>3</td>\n",
       "      <td>no</td>\n",
       "      <td>furnished</td>\n",
       "    </tr>\n",
       "    <tr>\n",
       "      <th>2</th>\n",
       "      <td>12250000</td>\n",
       "      <td>9960</td>\n",
       "      <td>3</td>\n",
       "      <td>2</td>\n",
       "      <td>2</td>\n",
       "      <td>yes</td>\n",
       "      <td>no</td>\n",
       "      <td>yes</td>\n",
       "      <td>no</td>\n",
       "      <td>no</td>\n",
       "      <td>2</td>\n",
       "      <td>yes</td>\n",
       "      <td>semi-furnished</td>\n",
       "    </tr>\n",
       "    <tr>\n",
       "      <th>3</th>\n",
       "      <td>12215000</td>\n",
       "      <td>7500</td>\n",
       "      <td>4</td>\n",
       "      <td>2</td>\n",
       "      <td>2</td>\n",
       "      <td>yes</td>\n",
       "      <td>no</td>\n",
       "      <td>yes</td>\n",
       "      <td>no</td>\n",
       "      <td>yes</td>\n",
       "      <td>3</td>\n",
       "      <td>yes</td>\n",
       "      <td>furnished</td>\n",
       "    </tr>\n",
       "    <tr>\n",
       "      <th>4</th>\n",
       "      <td>11410000</td>\n",
       "      <td>7420</td>\n",
       "      <td>4</td>\n",
       "      <td>1</td>\n",
       "      <td>2</td>\n",
       "      <td>yes</td>\n",
       "      <td>yes</td>\n",
       "      <td>yes</td>\n",
       "      <td>no</td>\n",
       "      <td>yes</td>\n",
       "      <td>2</td>\n",
       "      <td>no</td>\n",
       "      <td>furnished</td>\n",
       "    </tr>\n",
       "  </tbody>\n",
       "</table>\n",
       "</div>"
      ],
      "text/plain": [
       "      price  area  bedrooms  bathrooms  stories mainroad guestroom basement  \\\n",
       "0  13300000  7420         4          2        3      yes        no       no   \n",
       "1  12250000  8960         4          4        4      yes        no       no   \n",
       "2  12250000  9960         3          2        2      yes        no      yes   \n",
       "3  12215000  7500         4          2        2      yes        no      yes   \n",
       "4  11410000  7420         4          1        2      yes       yes      yes   \n",
       "\n",
       "  hotwaterheating airconditioning  parking prefarea furnishingstatus  \n",
       "0              no             yes        2      yes        furnished  \n",
       "1              no             yes        3       no        furnished  \n",
       "2              no              no        2      yes   semi-furnished  \n",
       "3              no             yes        3      yes        furnished  \n",
       "4              no             yes        2       no        furnished  "
      ]
     },
     "execution_count": 2,
     "metadata": {},
     "output_type": "execute_result"
    }
   ],
   "source": [
    "#read data\n",
    "df = pd.read_csv(\"Housing.csv\")\n",
    "df.head()"
   ]
  },
  {
   "cell_type": "code",
   "execution_count": 3,
   "id": "175f5998-26e3-479c-bb45-62cf4c694c3a",
   "metadata": {},
   "outputs": [
    {
     "data": {
      "text/plain": [
       "(545, 13)"
      ]
     },
     "execution_count": 3,
     "metadata": {},
     "output_type": "execute_result"
    }
   ],
   "source": [
    "#checking dimensionality and sample size\n",
    "df.shape"
   ]
  },
  {
   "cell_type": "code",
   "execution_count": 4,
   "id": "64af2dde-41c9-4517-900e-d208ce273e8e",
   "metadata": {
    "scrolled": true
   },
   "outputs": [
    {
     "name": "stdout",
     "output_type": "stream",
     "text": [
      "<class 'pandas.core.frame.DataFrame'>\n",
      "RangeIndex: 545 entries, 0 to 544\n",
      "Data columns (total 13 columns):\n",
      " #   Column            Non-Null Count  Dtype \n",
      "---  ------            --------------  ----- \n",
      " 0   price             545 non-null    int64 \n",
      " 1   area              545 non-null    int64 \n",
      " 2   bedrooms          545 non-null    int64 \n",
      " 3   bathrooms         545 non-null    int64 \n",
      " 4   stories           545 non-null    int64 \n",
      " 5   mainroad          545 non-null    object\n",
      " 6   guestroom         545 non-null    object\n",
      " 7   basement          545 non-null    object\n",
      " 8   hotwaterheating   545 non-null    object\n",
      " 9   airconditioning   545 non-null    object\n",
      " 10  parking           545 non-null    int64 \n",
      " 11  prefarea          545 non-null    object\n",
      " 12  furnishingstatus  545 non-null    object\n",
      "dtypes: int64(6), object(7)\n",
      "memory usage: 55.5+ KB\n",
      "None\n"
     ]
    },
    {
     "data": {
      "text/html": [
       "<div>\n",
       "<style scoped>\n",
       "    .dataframe tbody tr th:only-of-type {\n",
       "        vertical-align: middle;\n",
       "    }\n",
       "\n",
       "    .dataframe tbody tr th {\n",
       "        vertical-align: top;\n",
       "    }\n",
       "\n",
       "    .dataframe thead th {\n",
       "        text-align: right;\n",
       "    }\n",
       "</style>\n",
       "<table border=\"1\" class=\"dataframe\">\n",
       "  <thead>\n",
       "    <tr style=\"text-align: right;\">\n",
       "      <th></th>\n",
       "      <th>price</th>\n",
       "      <th>area</th>\n",
       "      <th>bedrooms</th>\n",
       "      <th>bathrooms</th>\n",
       "      <th>stories</th>\n",
       "      <th>parking</th>\n",
       "    </tr>\n",
       "  </thead>\n",
       "  <tbody>\n",
       "    <tr>\n",
       "      <th>count</th>\n",
       "      <td>5.450000e+02</td>\n",
       "      <td>545.000000</td>\n",
       "      <td>545.000000</td>\n",
       "      <td>545.000000</td>\n",
       "      <td>545.000000</td>\n",
       "      <td>545.000000</td>\n",
       "    </tr>\n",
       "    <tr>\n",
       "      <th>mean</th>\n",
       "      <td>4.766729e+06</td>\n",
       "      <td>5150.541284</td>\n",
       "      <td>2.965138</td>\n",
       "      <td>1.286239</td>\n",
       "      <td>1.805505</td>\n",
       "      <td>0.693578</td>\n",
       "    </tr>\n",
       "    <tr>\n",
       "      <th>std</th>\n",
       "      <td>1.870440e+06</td>\n",
       "      <td>2170.141023</td>\n",
       "      <td>0.738064</td>\n",
       "      <td>0.502470</td>\n",
       "      <td>0.867492</td>\n",
       "      <td>0.861586</td>\n",
       "    </tr>\n",
       "    <tr>\n",
       "      <th>min</th>\n",
       "      <td>1.750000e+06</td>\n",
       "      <td>1650.000000</td>\n",
       "      <td>1.000000</td>\n",
       "      <td>1.000000</td>\n",
       "      <td>1.000000</td>\n",
       "      <td>0.000000</td>\n",
       "    </tr>\n",
       "    <tr>\n",
       "      <th>25%</th>\n",
       "      <td>3.430000e+06</td>\n",
       "      <td>3600.000000</td>\n",
       "      <td>2.000000</td>\n",
       "      <td>1.000000</td>\n",
       "      <td>1.000000</td>\n",
       "      <td>0.000000</td>\n",
       "    </tr>\n",
       "    <tr>\n",
       "      <th>50%</th>\n",
       "      <td>4.340000e+06</td>\n",
       "      <td>4600.000000</td>\n",
       "      <td>3.000000</td>\n",
       "      <td>1.000000</td>\n",
       "      <td>2.000000</td>\n",
       "      <td>0.000000</td>\n",
       "    </tr>\n",
       "    <tr>\n",
       "      <th>75%</th>\n",
       "      <td>5.740000e+06</td>\n",
       "      <td>6360.000000</td>\n",
       "      <td>3.000000</td>\n",
       "      <td>2.000000</td>\n",
       "      <td>2.000000</td>\n",
       "      <td>1.000000</td>\n",
       "    </tr>\n",
       "    <tr>\n",
       "      <th>max</th>\n",
       "      <td>1.330000e+07</td>\n",
       "      <td>16200.000000</td>\n",
       "      <td>6.000000</td>\n",
       "      <td>4.000000</td>\n",
       "      <td>4.000000</td>\n",
       "      <td>3.000000</td>\n",
       "    </tr>\n",
       "  </tbody>\n",
       "</table>\n",
       "</div>"
      ],
      "text/plain": [
       "              price          area    bedrooms   bathrooms     stories  \\\n",
       "count  5.450000e+02    545.000000  545.000000  545.000000  545.000000   \n",
       "mean   4.766729e+06   5150.541284    2.965138    1.286239    1.805505   \n",
       "std    1.870440e+06   2170.141023    0.738064    0.502470    0.867492   \n",
       "min    1.750000e+06   1650.000000    1.000000    1.000000    1.000000   \n",
       "25%    3.430000e+06   3600.000000    2.000000    1.000000    1.000000   \n",
       "50%    4.340000e+06   4600.000000    3.000000    1.000000    2.000000   \n",
       "75%    5.740000e+06   6360.000000    3.000000    2.000000    2.000000   \n",
       "max    1.330000e+07  16200.000000    6.000000    4.000000    4.000000   \n",
       "\n",
       "          parking  \n",
       "count  545.000000  \n",
       "mean     0.693578  \n",
       "std      0.861586  \n",
       "min      0.000000  \n",
       "25%      0.000000  \n",
       "50%      0.000000  \n",
       "75%      1.000000  \n",
       "max      3.000000  "
      ]
     },
     "execution_count": 4,
     "metadata": {},
     "output_type": "execute_result"
    }
   ],
   "source": [
    "#initial look at the data\n",
    "print(df.info())\n",
    "df.describe()"
   ]
  },
  {
   "cell_type": "code",
   "execution_count": 5,
   "id": "228aa8a4-81f5-4f4e-9494-4a8de2dd4520",
   "metadata": {},
   "outputs": [
    {
     "name": "stdout",
     "output_type": "stream",
     "text": [
      "yes    468\n",
      "no      77\n",
      "Name: mainroad, dtype: int64\n",
      "\n",
      "\n",
      "no     448\n",
      "yes     97\n",
      "Name: guestroom, dtype: int64\n",
      "\n",
      "\n",
      "no     354\n",
      "yes    191\n",
      "Name: basement, dtype: int64\n",
      "\n",
      "\n",
      "no     520\n",
      "yes     25\n",
      "Name: hotwaterheating, dtype: int64\n",
      "\n",
      "\n",
      "no     373\n",
      "yes    172\n",
      "Name: airconditioning, dtype: int64\n",
      "\n",
      "\n",
      "no     417\n",
      "yes    128\n",
      "Name: prefarea, dtype: int64\n",
      "\n",
      "\n",
      "semi-furnished    227\n",
      "unfurnished       178\n",
      "furnished         140\n",
      "Name: furnishingstatus, dtype: int64\n",
      "\n",
      "\n"
     ]
    }
   ],
   "source": [
    "object_columns = df.select_dtypes(include=['object']).columns\n",
    "\n",
    "for col in object_columns:\n",
    "    print(df[col].value_counts())\n",
    "    print('\\n')\n",
    "    "
   ]
  },
  {
   "cell_type": "code",
   "execution_count": 6,
   "id": "71e1e3b5-c24d-4315-9acd-a95118451529",
   "metadata": {},
   "outputs": [
    {
     "data": {
      "text/plain": [
       "price               0\n",
       "area                0\n",
       "bedrooms            0\n",
       "bathrooms           0\n",
       "stories             0\n",
       "mainroad            0\n",
       "guestroom           0\n",
       "basement            0\n",
       "hotwaterheating     0\n",
       "airconditioning     0\n",
       "parking             0\n",
       "prefarea            0\n",
       "furnishingstatus    0\n",
       "dtype: int64"
      ]
     },
     "execution_count": 6,
     "metadata": {},
     "output_type": "execute_result"
    }
   ],
   "source": [
    "#checking for nulls\n",
    "df.isnull().sum()"
   ]
  },
  {
   "cell_type": "markdown",
   "id": "964c2015-c6bc-4e6a-b031-538d084f00e5",
   "metadata": {},
   "source": [
    "There are no nulls in the dataset, hence no dropping or additional processing is needed."
   ]
  },
  {
   "cell_type": "markdown",
   "id": "9cd0033d-72a1-421a-9fad-3884fadc83b1",
   "metadata": {},
   "source": [
    "### Initial Visualizations"
   ]
  },
  {
   "cell_type": "markdown",
   "id": "dbaf92e6-145e-47a7-bb5d-a3482a934984",
   "metadata": {},
   "source": [
    "#### Integer variables"
   ]
  },
  {
   "cell_type": "code",
   "execution_count": 7,
   "id": "e551ab63-5ef0-4477-af32-43ba66223093",
   "metadata": {},
   "outputs": [
    {
     "data": {
      "text/plain": [
       "Index(['price', 'area', 'bedrooms', 'bathrooms', 'stories', 'parking'], dtype='object')"
      ]
     },
     "execution_count": 7,
     "metadata": {},
     "output_type": "execute_result"
    }
   ],
   "source": [
    "cont_columns = df.select_dtypes(include=['int64']).columns\n",
    "cont_columns"
   ]
  },
  {
   "cell_type": "code",
   "execution_count": 8,
   "id": "844d188f-574d-4af8-ad48-0d7eb2d950d0",
   "metadata": {},
   "outputs": [
    {
     "data": {
      "text/plain": [
       "<Axes: xlabel='parking', ylabel='Count'>"
      ]
     },
     "execution_count": 8,
     "metadata": {},
     "output_type": "execute_result"
    },
    {
     "data": {
      "image/png": "[encoded data removed]",
      "text/plain": [
       "<Figure size 1500x1000 with 6 Axes>"
      ]
     },
     "metadata": {},
     "output_type": "display_data"
    }
   ],
   "source": [
    "num_rows = 2\n",
    "num_cols = 3\n",
    "fig, axes = plt.subplots(num_rows, num_cols, figsize=(15, 10))\n",
    "\n",
    "sns.histplot(data=df, x=\"price\", ax=axes[0,0])\n",
    "sns.histplot(data=df, x=\"area\", ax=axes[0,1])\n",
    "sns.histplot(data=df, x=\"bedrooms\", ax=axes[0,2])\n",
    "sns.histplot(data=df, x=\"bathrooms\", ax=axes[1,0])\n",
    "sns.histplot(data=df, x=\"stories\", ax=axes[1,1])\n",
    "sns.histplot(data=df, x=\"parking\", ax=axes[1,2])"
   ]
  },
  {
   "cell_type": "markdown",
   "id": "2c1c44f9-5407-4572-a1ed-70969913863f",
   "metadata": {},
   "source": [
    "There aren't any obvious outliers. The data is slightly skewed (mostly to the left) however this shouldnt pose an issue for a prediction algorithm.\n",
    "\n",
    "The target variable is 'price'.\n",
    "All other variables will be features for the model."
   ]
  },
  {
   "cell_type": "code",
   "execution_count": 9,
   "id": "e738db72-3894-4793-901f-bd100bf9a6b5",
   "metadata": {},
   "outputs": [
    {
     "data": {
      "image/png": "[encoded data removed]",
      "text/plain": [
       "<Figure size 1000x800 with 2 Axes>"
      ]
     },
     "metadata": {},
     "output_type": "display_data"
    }
   ],
   "source": [
    "# correlation plot of continuous variables\n",
    "cont_data = df[cont_columns]\n",
    "\n",
    "# Calculate correlation matrix\n",
    "corr_matrix = cont_data.corr()\n",
    "\n",
    "# Plot correlation heatmap\n",
    "plt.figure(figsize=(10, 8))\n",
    "sns.heatmap(corr_matrix, annot=True, cmap='coolwarm', fmt=\".2f\", linewidths=0.5)\n",
    "plt.title('Correlation Plot of Continuous Variables')\n",
    "plt.show()"
   ]
  },
  {
   "cell_type": "markdown",
   "id": "f8da5ea3-909e-4ab3-9ff4-a66e21ebef73",
   "metadata": {},
   "source": [
    "### Feature Engineering"
   ]
  },
  {
   "cell_type": "code",
   "execution_count": 10,
   "id": "787107b5-8e32-4702-b495-10f0cfd521aa",
   "metadata": {},
   "outputs": [],
   "source": [
    "seed = 13"
   ]
  },
  {
   "cell_type": "code",
   "execution_count": 11,
   "id": "7930e087-ba98-4b14-8261-961a6c5e06e1",
   "metadata": {},
   "outputs": [],
   "source": [
    "#encoding categorical, non-numerical variables\n",
    "pd_dummy = pd.get_dummies(data=df[object_columns])\n",
    "df = pd.concat([df,pd_dummy],axis=1).drop(columns=object_columns)\n"
   ]
  },
  {
   "cell_type": "markdown",
   "id": "76f4434b-ebfb-4da5-9b01-0a361f0799c0",
   "metadata": {},
   "source": [
    "### Model Building"
   ]
  },
  {
   "cell_type": "code",
   "execution_count": 12,
   "id": "c6f5b7ef-a3da-4945-8fc8-c5a45aa15c5e",
   "metadata": {},
   "outputs": [],
   "source": [
    "X = df[df.columns.difference(['price'])]\n",
    "y = df['price']\n",
    "X_train, X_test, y_train, y_test = train_test_split(X, y, test_size=0.30, random_state=seed)\n"
   ]
  },
  {
   "cell_type": "code",
   "execution_count": 32,
   "id": "29eb63ae-770b-4680-af04-0b770abed7d3",
   "metadata": {},
   "outputs": [],
   "source": [
    "# Define the model hyperparameters\n",
    "params = {\"n_estimators\": 50,  \"max_depth\": 25, \"max_features\": \"sqrt\", \"random_state\":seed }\n",
    "\n",
    "# Train the model\n",
    "rf = RandomForestRegressor(**params)\n",
    "rf.fit(X_train, y_train)\n",
    "\n",
    "# Predict on the test set\n",
    "y_pred = rf.predict(X_test)\n",
    "\n",
    "# MAE as loss metric\n",
    "mae = mean_absolute_error(y_test, y_pred)"
   ]
  },
  {
   "cell_type": "code",
   "execution_count": 33,
   "id": "36361698-0f81-492c-9bd2-20e03684d066",
   "metadata": {},
   "outputs": [
    {
     "data": {
      "text/plain": [
       "(164, 20)"
      ]
     },
     "execution_count": 33,
     "metadata": {},
     "output_type": "execute_result"
    }
   ],
   "source": [
    "X_test.shape"
   ]
  },
  {
   "cell_type": "code",
   "execution_count": 34,
   "id": "1541f3ba-0e9e-4997-a9ac-4097f3477386",
   "metadata": {},
   "outputs": [
    {
     "data": {
      "text/plain": [
       "(381, 20)"
      ]
     },
     "execution_count": 34,
     "metadata": {},
     "output_type": "execute_result"
    }
   ],
   "source": [
    "X_train.shape"
   ]
  },
  {
   "cell_type": "markdown",
   "id": "f2396c12-a6c0-4ea1-b05b-d3eb6fc5844b",
   "metadata": {},
   "source": [
    "### Define MLflow Experiment and Log - model, hyperparamters and loss metric"
   ]
  },
  {
   "cell_type": "code",
   "execution_count": 35,
   "id": "1244c0d8-e454-45cc-88ac-59ca10f70e8f",
   "metadata": {},
   "outputs": [
    {
     "data": {
      "text/plain": [
       "<Experiment: artifact_location='file:///Users/pranavakadiyala/OAI-lab1/mlruns/493125855766667732', creation_time=1708055699500, experiment_id='493125855766667732', last_update_time=1708055699500, lifecycle_stage='active', name='House Price Prediction (PK)', tags={}>"
      ]
     },
     "execution_count": 35,
     "metadata": {},
     "output_type": "execute_result"
    }
   ],
   "source": [
    "mlflow.set_experiment(\"House Price Prediction (PK)\")"
   ]
  },
  {
   "cell_type": "code",
   "execution_count": 36,
   "id": "04b87262-a363-401c-8252-f6ce5a1b2227",
   "metadata": {},
   "outputs": [
    {
     "name": "stderr",
     "output_type": "stream",
     "text": [
      "/Users/pranavakadiyala/OAI-lab1/FOAI/lib/python3.9/site-packages/mlflow/types/utils.py:393: UserWarning: Hint: Inferred schema contains integer column(s). Integer columns in Python cannot represent missing values. If your input data contains missing values at inference time, it will be encoded as floats and will cause a schema enforcement error. The best way to avoid this problem is to infer the model schema based on a realistic data sample (training dataset) that includes missing values. Alternatively, you can declare integer columns as doubles (float64) whenever these columns may have missing values. See `Handling Integers With Missing Values <https://www.mlflow.org/docs/latest/models.html#handling-integers-with-missing-values>`_ for more details.\n",
      "  warnings.warn(\n",
      "Registered model 'house-prediction-model' already exists. Creating a new version of this model...\n",
      "Created version '7' of model 'house-prediction-model'.\n"
     ]
    }
   ],
   "source": [
    "# Start an MLflow run\n",
    "with mlflow.start_run():\n",
    "    # Log the hyperparameters\n",
    "    mlflow.log_params(params)\n",
    "\n",
    "    # Log the loss metric\n",
    "    mlflow.log_metric(\"mean absolute error\", mae)\n",
    "\n",
    "    # Set a tag that we can use to remind ourselves what this run was for\n",
    "    mlflow.set_tag(\"Training Info\", \"Random Forest model for house prediction data\")\n",
    "\n",
    "    # Infer the model signature\n",
    "    signature = infer_signature(X_train, rf.predict(X_train))\n",
    "\n",
    "    # Log the model\n",
    "    model_info = mlflow.sklearn.log_model(\n",
    "        sk_model=rf,\n",
    "        artifact_path=\"house_prediction\",\n",
    "        signature=signature,\n",
    "        input_example=X_train,\n",
    "        registered_model_name=\"house-prediction-model\",\n",
    "    )\n"
   ]
  },
  {
   "cell_type": "code",
   "execution_count": 37,
   "id": "91d957bc-0499-4e5e-9721-b3eb4e71dbfc",
   "metadata": {},
   "outputs": [
    {
     "data": {
      "text/plain": [
       "(164, 20)"
      ]
     },
     "execution_count": 37,
     "metadata": {},
     "output_type": "execute_result"
    }
   ],
   "source": [
    "X_test.shape"
   ]
  },
  {
   "cell_type": "code",
   "execution_count": 38,
   "id": "ea070c42-53e5-40da-9be2-853958c7dc03",
   "metadata": {},
   "outputs": [
    {
     "data": {
      "text/plain": [
       "(381, 20)"
      ]
     },
     "execution_count": 38,
     "metadata": {},
     "output_type": "execute_result"
    }
   ],
   "source": [
    "X_train.shape"
   ]
  },
  {
   "cell_type": "markdown",
   "id": "e9fc5f77-bd4d-4dab-81f2-f7c8ace23f7f",
   "metadata": {},
   "source": [
    "### View Model in MLflow"
   ]
  },
  {
   "cell_type": "code",
   "execution_count": 39,
   "id": "7747b054-a1bb-468a-92d3-020cd8990f4d",
   "metadata": {},
   "outputs": [],
   "source": [
    "#!mlflow ui"
   ]
  },
  {
   "cell_type": "code",
   "execution_count": 40,
   "id": "0be59978-78a8-4b9a-a33f-bb3f0f475051",
   "metadata": {},
   "outputs": [
    {
     "data": {
      "text/plain": [
       "(164, 20)"
      ]
     },
     "execution_count": 40,
     "metadata": {},
     "output_type": "execute_result"
    }
   ],
   "source": [
    "X_test.shape"
   ]
  },
  {
   "cell_type": "markdown",
   "id": "31903ba9-a01c-4f86-af40-b59c2775181b",
   "metadata": {},
   "source": [
    "### Model Evaluation"
   ]
  },
  {
   "cell_type": "markdown",
   "id": "32ae5e42-bfc3-4560-a341-ec2e89827a6f",
   "metadata": {},
   "source": [
    "The model is evaluated using the Mean Absolute Error. "
   ]
  },
  {
   "cell_type": "markdown",
   "id": "5dbbe009-a31c-480c-b112-9e0400012af0",
   "metadata": {},
   "source": [
    "### Model Comparision"
   ]
  },
  {
   "cell_type": "markdown",
   "id": "f126236f-34a7-4af1-ba5a-80168e40fccc",
   "metadata": {},
   "source": [
    "For model comparision I compare the above random forest model with two other models:\n",
    "1. The model chosen as part of the Kaggle Zillow Competition is: (unfortunately I couldn't find the model details of the winner)\n",
    "\"ls = Lasso(alpha=1e-6, normalize=True)\"\n",
    "Link: https://www.kaggle.com/code/flennerhag/ml-ensemble-scikit-learn-style-ensemble-learning\n",
    "\n",
    "2. From the GitHUb repository I use the XGBoost regressor model:\n",
    "    \"xgb_regressor_model = XGBRegressor(n_estimators=900,\n",
    "                                   learning_rate=0.04,\n",
    "                                   random_state=seed,\n",
    "                                   n_jobs=4)\"\n",
    "   This model is from: https://github.com/vaibhavvikas/housing-price-predictor/tree/main"
   ]
  },
  {
   "cell_type": "markdown",
   "id": "cbc8f957-5746-44a8-9962-f3f0b53d8659",
   "metadata": {},
   "source": [
    "#### Lasso Model"
   ]
  },
  {
   "cell_type": "code",
   "execution_count": 41,
   "id": "6bc5094a-c101-47a1-a340-aef4734fa564",
   "metadata": {},
   "outputs": [
    {
     "name": "stderr",
     "output_type": "stream",
     "text": [
      "/Users/pranavakadiyala/OAI-lab1/FOAI/lib/python3.9/site-packages/sklearn/linear_model/_base.py:141: FutureWarning: 'normalize' was deprecated in version 1.0 and will be removed in 1.2.\n",
      "If you wish to scale the data, use Pipeline with a StandardScaler in a preprocessing stage. To reproduce the previous behavior:\n",
      "\n",
      "from sklearn.pipeline import make_pipeline\n",
      "\n",
      "model = make_pipeline(StandardScaler(with_mean=False), Lasso())\n",
      "\n",
      "If you wish to pass a sample_weight parameter, you need to pass it as a fit parameter to each step of the pipeline as follows:\n",
      "\n",
      "kwargs = {s[0] + '__sample_weight': sample_weight for s in model.steps}\n",
      "model.fit(X, y, **kwargs)\n",
      "\n",
      "Set parameter alpha to: original_alpha * np.sqrt(n_samples). \n",
      "  warnings.warn(\n"
     ]
    }
   ],
   "source": [
    "# Train the model\n",
    "params_lasso = {\"alpha\": 1e-6, \"normalize\":True, \"random_state\":seed}\n",
    "ls = Lasso(**params_lasso)\n",
    "ls.fit(X_train, y_train)\n",
    "\n",
    "# Predict on the test set\n",
    "y_pred_lasso = ls.predict(X_test)\n",
    "\n",
    "# MAE as loss metric\n",
    "mae_lasso = mean_absolute_error(y_test, y_pred_lasso)"
   ]
  },
  {
   "cell_type": "code",
   "execution_count": 42,
   "id": "dca776eb-e55c-4515-86d8-1eb4606032cb",
   "metadata": {},
   "outputs": [
    {
     "name": "stderr",
     "output_type": "stream",
     "text": [
      "/Users/pranavakadiyala/OAI-lab1/FOAI/lib/python3.9/site-packages/mlflow/types/utils.py:393: UserWarning: Hint: Inferred schema contains integer column(s). Integer columns in Python cannot represent missing values. If your input data contains missing values at inference time, it will be encoded as floats and will cause a schema enforcement error. The best way to avoid this problem is to infer the model schema based on a realistic data sample (training dataset) that includes missing values. Alternatively, you can declare integer columns as doubles (float64) whenever these columns may have missing values. See `Handling Integers With Missing Values <https://www.mlflow.org/docs/latest/models.html#handling-integers-with-missing-values>`_ for more details.\n",
      "  warnings.warn(\n",
      "Registered model 'house-prediction-model' already exists. Creating a new version of this model...\n",
      "Created version '8' of model 'house-prediction-model'.\n"
     ]
    }
   ],
   "source": [
    "# Start an MLflow run\n",
    "with mlflow.start_run():\n",
    "    # Log the hyperparameters\n",
    "    mlflow.log_params(params_lasso)\n",
    "\n",
    "    # Log the loss metric\n",
    "    mlflow.log_metric(\"mean absolute error\", mae_lasso)\n",
    "\n",
    "    # Set a tag that we can use to remind ourselves what this run was for\n",
    "    mlflow.set_tag(\"Training Info\", \"lasso model for house prediction data\")\n",
    "\n",
    "    # Infer the model signature\n",
    "    signature = infer_signature(X_train, ls.predict(X_train))\n",
    "\n",
    "    # Log the model\n",
    "    model_info = mlflow.sklearn.log_model(\n",
    "        sk_model=ls,\n",
    "        artifact_path=\"house_prediction\",\n",
    "        signature=signature,\n",
    "        input_example=X_train,\n",
    "        registered_model_name=\"house-prediction-model\",\n",
    "    )\n"
   ]
  },
  {
   "cell_type": "code",
   "execution_count": 43,
   "id": "1ef886c7-35c4-4a81-8871-31b7ba02d15c",
   "metadata": {},
   "outputs": [],
   "source": [
    "#!mlflow ui"
   ]
  },
  {
   "cell_type": "markdown",
   "id": "8422b511-b421-40c5-ab66-2307b8a44425",
   "metadata": {},
   "source": [
    "#### XGBoost Model"
   ]
  },
  {
   "cell_type": "code",
   "execution_count": 44,
   "id": "b7a0c679-3d73-4aed-b605-bab86fb65277",
   "metadata": {},
   "outputs": [],
   "source": [
    "params_xgb = {\"n_estimators\":900, \"learning_rate\":0.04, \"random_state\":seed, \"n_jobs\":4}\n",
    "xgb = XGBRegressor(**params_xgb)\n",
    "xgb.fit(X_train, y_train)\n",
    "\n",
    "# Predict on the test set\n",
    "y_pred_xgb = xgb.predict(X_test)\n",
    "\n",
    "# MAE as loss metric\n",
    "mae_xgb = mean_absolute_error(y_test, y_pred_xgb)"
   ]
  },
  {
   "cell_type": "code",
   "execution_count": 45,
   "id": "0c313006-1acc-4583-9a17-74690b10a149",
   "metadata": {},
   "outputs": [
    {
     "name": "stderr",
     "output_type": "stream",
     "text": [
      "/Users/pranavakadiyala/OAI-lab1/FOAI/lib/python3.9/site-packages/mlflow/types/utils.py:393: UserWarning: Hint: Inferred schema contains integer column(s). Integer columns in Python cannot represent missing values. If your input data contains missing values at inference time, it will be encoded as floats and will cause a schema enforcement error. The best way to avoid this problem is to infer the model schema based on a realistic data sample (training dataset) that includes missing values. Alternatively, you can declare integer columns as doubles (float64) whenever these columns may have missing values. See `Handling Integers With Missing Values <https://www.mlflow.org/docs/latest/models.html#handling-integers-with-missing-values>`_ for more details.\n",
      "  warnings.warn(\n",
      "Registered model 'house-prediction-model' already exists. Creating a new version of this model...\n",
      "Created version '9' of model 'house-prediction-model'.\n"
     ]
    }
   ],
   "source": [
    "# Start an MLflow run\n",
    "with mlflow.start_run():\n",
    "    # Log the hyperparameters\n",
    "    mlflow.log_params(params_xgb)\n",
    "\n",
    "    # Log the loss metric\n",
    "    mlflow.log_metric(\"mean absolute error\", mae_xgb)\n",
    "\n",
    "    # Set a tag that we can use to remind ourselves what this run was for\n",
    "    mlflow.set_tag(\"Training Info\", \"XGBoost model for house prediction data\")\n",
    "\n",
    "    # Infer the model signature\n",
    "    signature = infer_signature(X_train, xgb.predict(X_train))\n",
    "\n",
    "    # Log the model\n",
    "    model_info = mlflow.sklearn.log_model(\n",
    "        sk_model=xgb,\n",
    "        artifact_path=\"house_prediction\",\n",
    "        signature=signature,\n",
    "        input_example=X_train,\n",
    "        registered_model_name=\"house-prediction-model\",\n",
    "    )\n"
   ]
  },
  {
   "cell_type": "code",
   "execution_count": null,
   "id": "36265368-03db-44b9-accc-b15af8842640",
   "metadata": {},
   "outputs": [
    {
     "name": "stdout",
     "output_type": "stream",
     "text": [
      "[2024-02-16 21:41:55 -0500] [16839] [INFO] Starting gunicorn 21.2.0\n",
      "[2024-02-16 21:41:55 -0500] [16839] [INFO] Listening at: http://127.0.0.1:5000 (16839)\n",
      "[2024-02-16 21:41:55 -0500] [16839] [INFO] Using worker: sync\n",
      "[2024-02-16 21:41:55 -0500] [16840] [INFO] Booting worker with pid: 16840\n",
      "[2024-02-16 21:41:55 -0500] [16841] [INFO] Booting worker with pid: 16841\n",
      "[2024-02-16 21:41:55 -0500] [16842] [INFO] Booting worker with pid: 16842\n",
      "[2024-02-16 21:41:55 -0500] [16843] [INFO] Booting worker with pid: 16843\n",
      "[2024-02-16 22:00:19 -0500] [16839] [CRITICAL] WORKER TIMEOUT (pid:16840)\n",
      "[2024-02-16 22:00:19 -0500] [16839] [CRITICAL] WORKER TIMEOUT (pid:16841)\n",
      "[2024-02-16 22:00:19 -0500] [16839] [CRITICAL] WORKER TIMEOUT (pid:16842)\n",
      "[2024-02-16 22:00:19 -0500] [16839] [CRITICAL] WORKER TIMEOUT (pid:16843)\n",
      "[2024-02-16 22:00:19 -0500] [16840] [INFO] Worker exiting (pid: 16840)\n",
      "[2024-02-16 22:00:19 -0500] [16842] [INFO] Worker exiting (pid: 16842)\n",
      "[2024-02-16 22:00:19 -0500] [16841] [INFO] Worker exiting (pid: 16841)\n",
      "[2024-02-16 22:00:19 -0500] [16843] [INFO] Worker exiting (pid: 16843)\n",
      "[2024-02-16 22:00:20 -0500] [16839] [ERROR] Worker (pid:16843) was sent SIGKILL! Perhaps out of memory?\n",
      "[2024-02-16 22:00:20 -0500] [16839] [ERROR] Worker (pid:16842) was sent SIGKILL! Perhaps out of memory?\n",
      "[2024-02-16 22:00:20 -0500] [16839] [ERROR] Worker (pid:16841) was sent SIGKILL! Perhaps out of memory?\n",
      "[2024-02-16 22:00:20 -0500] [17773] [INFO] Booting worker with pid: 17773\n",
      "[2024-02-16 22:00:20 -0500] [17774] [INFO] Booting worker with pid: 17774\n",
      "[2024-02-16 22:00:20 -0500] [17775] [INFO] Booting worker with pid: 17775\n",
      "[2024-02-16 22:00:20 -0500] [16839] [ERROR] Worker (pid:16840) was sent SIGKILL! Perhaps out of memory?\n",
      "[2024-02-16 22:00:20 -0500] [17776] [INFO] Booting worker with pid: 17776\n",
      "[2024-02-16 22:26:51 -0500] [16839] [CRITICAL] WORKER TIMEOUT (pid:17773)\n",
      "[2024-02-16 22:26:51 -0500] [16839] [CRITICAL] WORKER TIMEOUT (pid:17774)\n",
      "[2024-02-16 22:26:51 -0500] [16839] [CRITICAL] WORKER TIMEOUT (pid:17775)\n",
      "[2024-02-16 22:26:51 -0500] [16839] [CRITICAL] WORKER TIMEOUT (pid:17776)\n",
      "[2024-02-16 22:26:51 -0500] [17774] [INFO] Worker exiting (pid: 17774)\n",
      "[2024-02-16 22:26:51 -0500] [17776] [INFO] Worker exiting (pid: 17776)\n",
      "[2024-02-16 22:26:51 -0500] [17773] [INFO] Worker exiting (pid: 17773)\n",
      "[2024-02-16 22:26:51 -0500] [17775] [INFO] Worker exiting (pid: 17775)\n",
      "[2024-02-16 22:26:52 -0500] [16839] [ERROR] Worker (pid:17776) was sent SIGKILL! Perhaps out of memory?\n",
      "[2024-02-16 22:26:52 -0500] [16839] [ERROR] Worker (pid:17775) was sent SIGKILL! Perhaps out of memory?\n",
      "[2024-02-16 22:26:52 -0500] [16839] [ERROR] Worker (pid:17774) was sent SIGKILL! Perhaps out of memory?\n",
      "[2024-02-16 22:26:52 -0500] [16839] [ERROR] Worker (pid:17773) was sent SIGKILL! Perhaps out of memory?\n",
      "[2024-02-16 22:26:52 -0500] [19417] [INFO] Booting worker with pid: 19417\n",
      "[2024-02-16 22:26:52 -0500] [19419] [INFO] Booting worker with pid: 19419\n",
      "[2024-02-16 22:26:52 -0500] [19422] [INFO] Booting worker with pid: 19422\n",
      "[2024-02-16 22:26:52 -0500] [19423] [INFO] Booting worker with pid: 19423\n"
     ]
    }
   ],
   "source": [
    "!mlflow ui"
   ]
  },
  {
   "cell_type": "markdown",
   "id": "244a90a3-06ee-4943-b6b3-c44b53e84a7d",
   "metadata": {},
   "source": [
    "**Looking at the models and evaluating on the basis of MAE - the best model is Lasso with these parameters:\n",
    "\"alpha\": 1e-6, \"normalize\":True\n",
    "This model was chosen as part of the Zillow Kaggle Competition.**"
   ]
  },
  {
   "cell_type": "markdown",
   "id": "88ab1833-925b-4b4c-bf19-126b8e6f23d7",
   "metadata": {},
   "source": [
    "### Model Serving"
   ]
  },
  {
   "cell_type": "code",
   "execution_count": 50,
   "id": "ca647f5b-a378-4875-bd17-602d76a1e378",
   "metadata": {},
   "outputs": [],
   "source": [
    "loaded_model = mlflow.pyfunc.load_model(model_info.model_uri)"
   ]
  },
  {
   "cell_type": "code",
   "execution_count": 51,
   "id": "9e0ce9dd-7d93-466c-bb89-9e2d44ec8132",
   "metadata": {},
   "outputs": [
    {
     "data": {
      "text/html": [
       "<div>\n",
       "<style scoped>\n",
       "    .dataframe tbody tr th:only-of-type {\n",
       "        vertical-align: middle;\n",
       "    }\n",
       "\n",
       "    .dataframe tbody tr th {\n",
       "        vertical-align: top;\n",
       "    }\n",
       "\n",
       "    .dataframe thead th {\n",
       "        text-align: right;\n",
       "    }\n",
       "</style>\n",
       "<table border=\"1\" class=\"dataframe\">\n",
       "  <thead>\n",
       "    <tr style=\"text-align: right;\">\n",
       "      <th></th>\n",
       "      <th>airconditioning_no</th>\n",
       "      <th>airconditioning_yes</th>\n",
       "      <th>area</th>\n",
       "      <th>basement_no</th>\n",
       "      <th>basement_yes</th>\n",
       "      <th>bathrooms</th>\n",
       "      <th>bedrooms</th>\n",
       "      <th>furnishingstatus_furnished</th>\n",
       "      <th>furnishingstatus_semi-furnished</th>\n",
       "      <th>furnishingstatus_unfurnished</th>\n",
       "      <th>...</th>\n",
       "      <th>hotwaterheating_no</th>\n",
       "      <th>hotwaterheating_yes</th>\n",
       "      <th>mainroad_no</th>\n",
       "      <th>mainroad_yes</th>\n",
       "      <th>parking</th>\n",
       "      <th>prefarea_no</th>\n",
       "      <th>prefarea_yes</th>\n",
       "      <th>stories</th>\n",
       "      <th>actual_class</th>\n",
       "      <th>predicted_class</th>\n",
       "    </tr>\n",
       "  </thead>\n",
       "  <tbody>\n",
       "    <tr>\n",
       "      <th>0</th>\n",
       "      <td>0</td>\n",
       "      <td>1</td>\n",
       "      <td>7420</td>\n",
       "      <td>1</td>\n",
       "      <td>0</td>\n",
       "      <td>2</td>\n",
       "      <td>4</td>\n",
       "      <td>1</td>\n",
       "      <td>0</td>\n",
       "      <td>0</td>\n",
       "      <td>...</td>\n",
       "      <td>1</td>\n",
       "      <td>0</td>\n",
       "      <td>0</td>\n",
       "      <td>1</td>\n",
       "      <td>2</td>\n",
       "      <td>0</td>\n",
       "      <td>1</td>\n",
       "      <td>3</td>\n",
       "      <td>13300000</td>\n",
       "      <td>8844222.00</td>\n",
       "    </tr>\n",
       "    <tr>\n",
       "      <th>118</th>\n",
       "      <td>0</td>\n",
       "      <td>1</td>\n",
       "      <td>6420</td>\n",
       "      <td>0</td>\n",
       "      <td>1</td>\n",
       "      <td>1</td>\n",
       "      <td>3</td>\n",
       "      <td>1</td>\n",
       "      <td>0</td>\n",
       "      <td>0</td>\n",
       "      <td>...</td>\n",
       "      <td>1</td>\n",
       "      <td>0</td>\n",
       "      <td>0</td>\n",
       "      <td>1</td>\n",
       "      <td>0</td>\n",
       "      <td>0</td>\n",
       "      <td>1</td>\n",
       "      <td>1</td>\n",
       "      <td>5950000</td>\n",
       "      <td>6288735.00</td>\n",
       "    </tr>\n",
       "    <tr>\n",
       "      <th>200</th>\n",
       "      <td>0</td>\n",
       "      <td>1</td>\n",
       "      <td>4520</td>\n",
       "      <td>0</td>\n",
       "      <td>1</td>\n",
       "      <td>1</td>\n",
       "      <td>3</td>\n",
       "      <td>0</td>\n",
       "      <td>1</td>\n",
       "      <td>0</td>\n",
       "      <td>...</td>\n",
       "      <td>1</td>\n",
       "      <td>0</td>\n",
       "      <td>0</td>\n",
       "      <td>1</td>\n",
       "      <td>0</td>\n",
       "      <td>1</td>\n",
       "      <td>0</td>\n",
       "      <td>2</td>\n",
       "      <td>4900000</td>\n",
       "      <td>4054742.25</td>\n",
       "    </tr>\n",
       "    <tr>\n",
       "      <th>323</th>\n",
       "      <td>1</td>\n",
       "      <td>0</td>\n",
       "      <td>5400</td>\n",
       "      <td>1</td>\n",
       "      <td>0</td>\n",
       "      <td>1</td>\n",
       "      <td>3</td>\n",
       "      <td>0</td>\n",
       "      <td>1</td>\n",
       "      <td>0</td>\n",
       "      <td>...</td>\n",
       "      <td>1</td>\n",
       "      <td>0</td>\n",
       "      <td>0</td>\n",
       "      <td>1</td>\n",
       "      <td>3</td>\n",
       "      <td>1</td>\n",
       "      <td>0</td>\n",
       "      <td>1</td>\n",
       "      <td>4025000</td>\n",
       "      <td>5060902.50</td>\n",
       "    </tr>\n",
       "  </tbody>\n",
       "</table>\n",
       "<p>4 rows × 22 columns</p>\n",
       "</div>"
      ],
      "text/plain": [
       "     airconditioning_no  airconditioning_yes  area  basement_no  basement_yes  \\\n",
       "0                     0                    1  7420            1             0   \n",
       "118                   0                    1  6420            0             1   \n",
       "200                   0                    1  4520            0             1   \n",
       "323                   1                    0  5400            1             0   \n",
       "\n",
       "     bathrooms  bedrooms  furnishingstatus_furnished  \\\n",
       "0            2         4                           1   \n",
       "118          1         3                           1   \n",
       "200          1         3                           0   \n",
       "323          1         3                           0   \n",
       "\n",
       "     furnishingstatus_semi-furnished  furnishingstatus_unfurnished  ...  \\\n",
       "0                                  0                             0  ...   \n",
       "118                                0                             0  ...   \n",
       "200                                1                             0  ...   \n",
       "323                                1                             0  ...   \n",
       "\n",
       "     hotwaterheating_no  hotwaterheating_yes  mainroad_no  mainroad_yes  \\\n",
       "0                     1                    0            0             1   \n",
       "118                   1                    0            0             1   \n",
       "200                   1                    0            0             1   \n",
       "323                   1                    0            0             1   \n",
       "\n",
       "     parking  prefarea_no  prefarea_yes  stories  actual_class  \\\n",
       "0          2            0             1        3      13300000   \n",
       "118        0            0             1        1       5950000   \n",
       "200        0            1             0        2       4900000   \n",
       "323        3            1             0        1       4025000   \n",
       "\n",
       "     predicted_class  \n",
       "0         8844222.00  \n",
       "118       6288735.00  \n",
       "200       4054742.25  \n",
       "323       5060902.50  \n",
       "\n",
       "[4 rows x 22 columns]"
      ]
     },
     "execution_count": 51,
     "metadata": {},
     "output_type": "execute_result"
    }
   ],
   "source": [
    "predictions = loaded_model.predict(X_test)\n",
    "\n",
    "# Convert X_test validation feature data to a Pandas DataFrame\n",
    "result = pd.DataFrame(X_test, columns=X_test.columns)\n",
    "\n",
    "# Add the actual classes to the DataFrame\n",
    "result[\"actual_class\"] = y_test\n",
    "\n",
    "# Add the model predictions to the DataFrame\n",
    "result[\"predicted_class\"] = predictions\n",
    "\n",
    "result[:4]"
   ]
  },
  {
   "cell_type": "code",
   "execution_count": null,
   "id": "117c88dd-755b-4321-beff-6af74dbdc0fb",
   "metadata": {},
   "outputs": [],
   "source": []
  }
 ],
 "metadata": {
  "kernelspec": {
   "display_name": "FOAI",
   "language": "python",
   "name": "foai"
  },
  "language_info": {
   "codemirror_mode": {
    "name": "ipython",
    "version": 3
   },
   "file_extension": ".py",
   "mimetype": "text/x-python",
   "name": "python",
   "nbconvert_exporter": "python",
   "pygments_lexer": "ipython3",
   "version": "3.9.17"
  }
 },
 "nbformat": 4,
 "nbformat_minor": 5
}
